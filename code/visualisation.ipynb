{
 "cells": [
  {
   "cell_type": "code",
   "execution_count": 1,
   "id": "d175a717",
   "metadata": {},
   "outputs": [],
   "source": [
    "import torch\n",
    "import os\n",
    "import pandas as pd\n",
    "import copy\n",
    "import numpy as np"
   ]
  },
  {
   "cell_type": "code",
   "execution_count": 2,
   "id": "d65d4f89",
   "metadata": {},
   "outputs": [],
   "source": [
    "def read_data_from_file(input_file_path):\n",
    "    \"\"\"\n",
    "    :param input_file_path:\n",
    "    :return: a list of numpy arrays\n",
    "    \"\"\"\n",
    "    import ast  # for safe evaluations\n",
    "    import numpy as np\n",
    "\n",
    "    # Initialize an empty list to hold the data\n",
    "    loaded_data = []\n",
    "\n",
    "    # Read the file\n",
    "    with open(input_file_path, 'r') as f:\n",
    "        for line in f:\n",
    "            # Convert the string representation of the list back to a Python object\n",
    "            item = ast.literal_eval(line.strip())\n",
    "\n",
    "            converted_item = []\n",
    "            if isinstance(item, list):\n",
    "                for element in item:\n",
    "                    if isinstance(element, list):\n",
    "                        converted_item.append(np.array(element))\n",
    "                    else:\n",
    "                        converted_item.append(np.array([element]))\n",
    "\n",
    "            else:\n",
    "                converted_item.append(np.array(item))\n",
    "\n",
    "            loaded_data.append(converted_item[0])\n",
    "\n",
    "    return loaded_data"
   ]
  },
  {
   "cell_type": "code",
   "execution_count": 3,
   "id": "6684a370",
   "metadata": {},
   "outputs": [],
   "source": [
    "data_load_dir = '/Users/cangxiong/Downloads/resnet_head_2024-09-10-2359/'\n",
    "false_neg_load_path = os.path.join(data_load_dir, 'false_negatives_coordinates.txt')\n",
    "false_pos_load_path =  os.path.join(data_load_dir, 'false_positives_coordinates.txt')\n",
    "true_pos_load_path = os.path.join(data_load_dir, 'true_positives_coordinates.txt')\n",
    "true_neg_load_path = os.path.join(data_load_dir, 'true_negatives_coordinates.txt')"
   ]
  },
  {
   "cell_type": "code",
   "execution_count": 4,
   "id": "e1313ec6",
   "metadata": {},
   "outputs": [],
   "source": [
    "false_neg_coordinates = read_data_from_file(false_neg_load_path)\n",
    "false_pos_coordinates = read_data_from_file(false_pos_load_path)\n",
    "true_pos_coordinates = read_data_from_file(true_pos_load_path)\n",
    "true_neg_coordinates = read_data_from_file(true_neg_load_path)"
   ]
  },
  {
   "cell_type": "code",
   "execution_count": 5,
   "id": "6f63416b",
   "metadata": {},
   "outputs": [
    {
     "data": {
      "text/plain": [
       "1028"
      ]
     },
     "execution_count": 5,
     "metadata": {},
     "output_type": "execute_result"
    }
   ],
   "source": [
    "len(false_pos_coordinates)"
   ]
  },
  {
   "cell_type": "code",
   "execution_count": 6,
   "id": "c0f801b5",
   "metadata": {},
   "outputs": [
    {
     "data": {
      "text/plain": [
       "2198"
      ]
     },
     "execution_count": 6,
     "metadata": {},
     "output_type": "execute_result"
    }
   ],
   "source": [
    "len(true_pos_coordinates)"
   ]
  },
  {
   "cell_type": "code",
   "execution_count": 7,
   "id": "d8c7febb",
   "metadata": {},
   "outputs": [
    {
     "data": {
      "text/plain": [
       "272"
      ]
     },
     "execution_count": 7,
     "metadata": {},
     "output_type": "execute_result"
    }
   ],
   "source": [
    "len(false_neg_coordinates)"
   ]
  },
  {
   "cell_type": "code",
   "execution_count": 8,
   "id": "2ab8dd03",
   "metadata": {},
   "outputs": [
    {
     "data": {
      "text/plain": [
       "15502"
      ]
     },
     "execution_count": 8,
     "metadata": {},
     "output_type": "execute_result"
    }
   ],
   "source": [
    "len(true_neg_coordinates)"
   ]
  },
  {
   "cell_type": "code",
   "execution_count": 9,
   "id": "7ed28b39",
   "metadata": {},
   "outputs": [],
   "source": [
    "total_pos_coordinates = copy.deepcopy(true_pos_coordinates)"
   ]
  },
  {
   "cell_type": "code",
   "execution_count": 10,
   "id": "ff3b3583",
   "metadata": {},
   "outputs": [],
   "source": [
    "total_neg_coordinates = copy.deepcopy(true_neg_coordinates)"
   ]
  },
  {
   "cell_type": "code",
   "execution_count": 11,
   "id": "179db475",
   "metadata": {},
   "outputs": [],
   "source": [
    "total_pos_coordinates.extend(false_neg_coordinates)"
   ]
  },
  {
   "cell_type": "code",
   "execution_count": 12,
   "id": "e764a9b9",
   "metadata": {},
   "outputs": [],
   "source": [
    "total_neg_coordinates.extend(false_pos_coordinates)"
   ]
  },
  {
   "cell_type": "code",
   "execution_count": 13,
   "id": "b59e39eb",
   "metadata": {},
   "outputs": [
    {
     "data": {
      "text/plain": [
       "2470"
      ]
     },
     "execution_count": 13,
     "metadata": {},
     "output_type": "execute_result"
    }
   ],
   "source": [
    "len(total_pos_coordinates)"
   ]
  },
  {
   "cell_type": "code",
   "execution_count": 14,
   "id": "0988d313",
   "metadata": {},
   "outputs": [
    {
     "data": {
      "text/plain": [
       "16530"
      ]
     },
     "execution_count": 14,
     "metadata": {},
     "output_type": "execute_result"
    }
   ],
   "source": [
    "len(total_neg_coordinates)"
   ]
  },
  {
   "cell_type": "code",
   "execution_count": 15,
   "id": "6502394f",
   "metadata": {},
   "outputs": [],
   "source": [
    "column_headings = ['event_label', 'time_arrow', 'crop_x', \n",
    "                   'crop_y', 'frame_ind', 'time_arrow_duplicated',\n",
    "                   'event_pred']"
   ]
  },
  {
   "cell_type": "code",
   "execution_count": 16,
   "id": "ab158135",
   "metadata": {},
   "outputs": [],
   "source": [
    "df_false_pos = pd.DataFrame(false_pos_coordinates, columns=column_headings)"
   ]
  },
  {
   "cell_type": "code",
   "execution_count": 17,
   "id": "1642e892",
   "metadata": {},
   "outputs": [
    {
     "data": {
      "text/html": [
       "<div>\n",
       "<style scoped>\n",
       "    .dataframe tbody tr th:only-of-type {\n",
       "        vertical-align: middle;\n",
       "    }\n",
       "\n",
       "    .dataframe tbody tr th {\n",
       "        vertical-align: top;\n",
       "    }\n",
       "\n",
       "    .dataframe thead th {\n",
       "        text-align: right;\n",
       "    }\n",
       "</style>\n",
       "<table border=\"1\" class=\"dataframe\">\n",
       "  <thead>\n",
       "    <tr style=\"text-align: right;\">\n",
       "      <th></th>\n",
       "      <th>event_label</th>\n",
       "      <th>time_arrow</th>\n",
       "      <th>crop_x</th>\n",
       "      <th>crop_y</th>\n",
       "      <th>frame_ind</th>\n",
       "      <th>time_arrow_duplicated</th>\n",
       "      <th>event_pred</th>\n",
       "    </tr>\n",
       "  </thead>\n",
       "  <tbody>\n",
       "    <tr>\n",
       "      <th>0</th>\n",
       "      <td>0</td>\n",
       "      <td>1</td>\n",
       "      <td>785</td>\n",
       "      <td>48</td>\n",
       "      <td>91</td>\n",
       "      <td>1</td>\n",
       "      <td>1</td>\n",
       "    </tr>\n",
       "    <tr>\n",
       "      <th>1</th>\n",
       "      <td>0</td>\n",
       "      <td>1</td>\n",
       "      <td>706</td>\n",
       "      <td>445</td>\n",
       "      <td>16</td>\n",
       "      <td>1</td>\n",
       "      <td>1</td>\n",
       "    </tr>\n",
       "    <tr>\n",
       "      <th>2</th>\n",
       "      <td>0</td>\n",
       "      <td>0</td>\n",
       "      <td>102</td>\n",
       "      <td>799</td>\n",
       "      <td>69</td>\n",
       "      <td>0</td>\n",
       "      <td>1</td>\n",
       "    </tr>\n",
       "    <tr>\n",
       "      <th>3</th>\n",
       "      <td>0</td>\n",
       "      <td>0</td>\n",
       "      <td>158</td>\n",
       "      <td>958</td>\n",
       "      <td>71</td>\n",
       "      <td>0</td>\n",
       "      <td>1</td>\n",
       "    </tr>\n",
       "    <tr>\n",
       "      <th>4</th>\n",
       "      <td>0</td>\n",
       "      <td>0</td>\n",
       "      <td>621</td>\n",
       "      <td>844</td>\n",
       "      <td>20</td>\n",
       "      <td>0</td>\n",
       "      <td>1</td>\n",
       "    </tr>\n",
       "    <tr>\n",
       "      <th>...</th>\n",
       "      <td>...</td>\n",
       "      <td>...</td>\n",
       "      <td>...</td>\n",
       "      <td>...</td>\n",
       "      <td>...</td>\n",
       "      <td>...</td>\n",
       "      <td>...</td>\n",
       "    </tr>\n",
       "    <tr>\n",
       "      <th>1023</th>\n",
       "      <td>0</td>\n",
       "      <td>1</td>\n",
       "      <td>588</td>\n",
       "      <td>830</td>\n",
       "      <td>74</td>\n",
       "      <td>1</td>\n",
       "      <td>1</td>\n",
       "    </tr>\n",
       "    <tr>\n",
       "      <th>1024</th>\n",
       "      <td>0</td>\n",
       "      <td>1</td>\n",
       "      <td>291</td>\n",
       "      <td>226</td>\n",
       "      <td>83</td>\n",
       "      <td>1</td>\n",
       "      <td>1</td>\n",
       "    </tr>\n",
       "    <tr>\n",
       "      <th>1025</th>\n",
       "      <td>0</td>\n",
       "      <td>0</td>\n",
       "      <td>556</td>\n",
       "      <td>184</td>\n",
       "      <td>21</td>\n",
       "      <td>0</td>\n",
       "      <td>1</td>\n",
       "    </tr>\n",
       "    <tr>\n",
       "      <th>1026</th>\n",
       "      <td>0</td>\n",
       "      <td>0</td>\n",
       "      <td>70</td>\n",
       "      <td>250</td>\n",
       "      <td>47</td>\n",
       "      <td>0</td>\n",
       "      <td>1</td>\n",
       "    </tr>\n",
       "    <tr>\n",
       "      <th>1027</th>\n",
       "      <td>0</td>\n",
       "      <td>0</td>\n",
       "      <td>606</td>\n",
       "      <td>704</td>\n",
       "      <td>83</td>\n",
       "      <td>0</td>\n",
       "      <td>1</td>\n",
       "    </tr>\n",
       "  </tbody>\n",
       "</table>\n",
       "<p>1028 rows × 7 columns</p>\n",
       "</div>"
      ],
      "text/plain": [
       "      event_label  time_arrow  crop_x  crop_y  frame_ind  \\\n",
       "0               0           1     785      48         91   \n",
       "1               0           1     706     445         16   \n",
       "2               0           0     102     799         69   \n",
       "3               0           0     158     958         71   \n",
       "4               0           0     621     844         20   \n",
       "...           ...         ...     ...     ...        ...   \n",
       "1023            0           1     588     830         74   \n",
       "1024            0           1     291     226         83   \n",
       "1025            0           0     556     184         21   \n",
       "1026            0           0      70     250         47   \n",
       "1027            0           0     606     704         83   \n",
       "\n",
       "      time_arrow_duplicated  event_pred  \n",
       "0                         1           1  \n",
       "1                         1           1  \n",
       "2                         0           1  \n",
       "3                         0           1  \n",
       "4                         0           1  \n",
       "...                     ...         ...  \n",
       "1023                      1           1  \n",
       "1024                      1           1  \n",
       "1025                      0           1  \n",
       "1026                      0           1  \n",
       "1027                      0           1  \n",
       "\n",
       "[1028 rows x 7 columns]"
      ]
     },
     "execution_count": 17,
     "metadata": {},
     "output_type": "execute_result"
    }
   ],
   "source": [
    "df_false_pos"
   ]
  },
  {
   "cell_type": "code",
   "execution_count": 18,
   "id": "2393da4b",
   "metadata": {},
   "outputs": [],
   "source": [
    "df_true_pos = pd.DataFrame(true_pos_coordinates, columns=column_headings)"
   ]
  },
  {
   "cell_type": "code",
   "execution_count": 19,
   "id": "33f89070",
   "metadata": {},
   "outputs": [
    {
     "data": {
      "text/html": [
       "<div>\n",
       "<style scoped>\n",
       "    .dataframe tbody tr th:only-of-type {\n",
       "        vertical-align: middle;\n",
       "    }\n",
       "\n",
       "    .dataframe tbody tr th {\n",
       "        vertical-align: top;\n",
       "    }\n",
       "\n",
       "    .dataframe thead th {\n",
       "        text-align: right;\n",
       "    }\n",
       "</style>\n",
       "<table border=\"1\" class=\"dataframe\">\n",
       "  <thead>\n",
       "    <tr style=\"text-align: right;\">\n",
       "      <th></th>\n",
       "      <th>event_label</th>\n",
       "      <th>time_arrow</th>\n",
       "      <th>crop_x</th>\n",
       "      <th>crop_y</th>\n",
       "      <th>frame_ind</th>\n",
       "      <th>time_arrow_duplicated</th>\n",
       "      <th>event_pred</th>\n",
       "    </tr>\n",
       "  </thead>\n",
       "  <tbody>\n",
       "    <tr>\n",
       "      <th>0</th>\n",
       "      <td>1</td>\n",
       "      <td>1</td>\n",
       "      <td>331</td>\n",
       "      <td>962</td>\n",
       "      <td>22</td>\n",
       "      <td>1</td>\n",
       "      <td>1</td>\n",
       "    </tr>\n",
       "    <tr>\n",
       "      <th>1</th>\n",
       "      <td>1</td>\n",
       "      <td>1</td>\n",
       "      <td>493</td>\n",
       "      <td>16</td>\n",
       "      <td>48</td>\n",
       "      <td>1</td>\n",
       "      <td>1</td>\n",
       "    </tr>\n",
       "    <tr>\n",
       "      <th>2</th>\n",
       "      <td>1</td>\n",
       "      <td>1</td>\n",
       "      <td>763</td>\n",
       "      <td>178</td>\n",
       "      <td>21</td>\n",
       "      <td>1</td>\n",
       "      <td>1</td>\n",
       "    </tr>\n",
       "    <tr>\n",
       "      <th>3</th>\n",
       "      <td>1</td>\n",
       "      <td>1</td>\n",
       "      <td>774</td>\n",
       "      <td>382</td>\n",
       "      <td>93</td>\n",
       "      <td>1</td>\n",
       "      <td>1</td>\n",
       "    </tr>\n",
       "    <tr>\n",
       "      <th>4</th>\n",
       "      <td>1</td>\n",
       "      <td>1</td>\n",
       "      <td>567</td>\n",
       "      <td>777</td>\n",
       "      <td>84</td>\n",
       "      <td>1</td>\n",
       "      <td>1</td>\n",
       "    </tr>\n",
       "    <tr>\n",
       "      <th>...</th>\n",
       "      <td>...</td>\n",
       "      <td>...</td>\n",
       "      <td>...</td>\n",
       "      <td>...</td>\n",
       "      <td>...</td>\n",
       "      <td>...</td>\n",
       "      <td>...</td>\n",
       "    </tr>\n",
       "    <tr>\n",
       "      <th>2193</th>\n",
       "      <td>1</td>\n",
       "      <td>0</td>\n",
       "      <td>137</td>\n",
       "      <td>964</td>\n",
       "      <td>16</td>\n",
       "      <td>0</td>\n",
       "      <td>1</td>\n",
       "    </tr>\n",
       "    <tr>\n",
       "      <th>2194</th>\n",
       "      <td>1</td>\n",
       "      <td>1</td>\n",
       "      <td>740</td>\n",
       "      <td>856</td>\n",
       "      <td>88</td>\n",
       "      <td>1</td>\n",
       "      <td>1</td>\n",
       "    </tr>\n",
       "    <tr>\n",
       "      <th>2195</th>\n",
       "      <td>1</td>\n",
       "      <td>1</td>\n",
       "      <td>621</td>\n",
       "      <td>611</td>\n",
       "      <td>61</td>\n",
       "      <td>1</td>\n",
       "      <td>1</td>\n",
       "    </tr>\n",
       "    <tr>\n",
       "      <th>2196</th>\n",
       "      <td>1</td>\n",
       "      <td>1</td>\n",
       "      <td>458</td>\n",
       "      <td>933</td>\n",
       "      <td>16</td>\n",
       "      <td>1</td>\n",
       "      <td>1</td>\n",
       "    </tr>\n",
       "    <tr>\n",
       "      <th>2197</th>\n",
       "      <td>1</td>\n",
       "      <td>1</td>\n",
       "      <td>935</td>\n",
       "      <td>417</td>\n",
       "      <td>62</td>\n",
       "      <td>1</td>\n",
       "      <td>1</td>\n",
       "    </tr>\n",
       "  </tbody>\n",
       "</table>\n",
       "<p>2198 rows × 7 columns</p>\n",
       "</div>"
      ],
      "text/plain": [
       "      event_label  time_arrow  crop_x  crop_y  frame_ind  \\\n",
       "0               1           1     331     962         22   \n",
       "1               1           1     493      16         48   \n",
       "2               1           1     763     178         21   \n",
       "3               1           1     774     382         93   \n",
       "4               1           1     567     777         84   \n",
       "...           ...         ...     ...     ...        ...   \n",
       "2193            1           0     137     964         16   \n",
       "2194            1           1     740     856         88   \n",
       "2195            1           1     621     611         61   \n",
       "2196            1           1     458     933         16   \n",
       "2197            1           1     935     417         62   \n",
       "\n",
       "      time_arrow_duplicated  event_pred  \n",
       "0                         1           1  \n",
       "1                         1           1  \n",
       "2                         1           1  \n",
       "3                         1           1  \n",
       "4                         1           1  \n",
       "...                     ...         ...  \n",
       "2193                      0           1  \n",
       "2194                      1           1  \n",
       "2195                      1           1  \n",
       "2196                      1           1  \n",
       "2197                      1           1  \n",
       "\n",
       "[2198 rows x 7 columns]"
      ]
     },
     "execution_count": 19,
     "metadata": {},
     "output_type": "execute_result"
    }
   ],
   "source": [
    "df_true_pos"
   ]
  },
  {
   "cell_type": "code",
   "execution_count": 20,
   "id": "c226d7c0",
   "metadata": {},
   "outputs": [],
   "source": [
    "df_total_pos = pd.DataFrame(total_pos_coordinates, columns=column_headings)"
   ]
  },
  {
   "cell_type": "code",
   "execution_count": 21,
   "id": "10eec200",
   "metadata": {},
   "outputs": [
    {
     "data": {
      "text/html": [
       "<div>\n",
       "<style scoped>\n",
       "    .dataframe tbody tr th:only-of-type {\n",
       "        vertical-align: middle;\n",
       "    }\n",
       "\n",
       "    .dataframe tbody tr th {\n",
       "        vertical-align: top;\n",
       "    }\n",
       "\n",
       "    .dataframe thead th {\n",
       "        text-align: right;\n",
       "    }\n",
       "</style>\n",
       "<table border=\"1\" class=\"dataframe\">\n",
       "  <thead>\n",
       "    <tr style=\"text-align: right;\">\n",
       "      <th></th>\n",
       "      <th>event_label</th>\n",
       "      <th>time_arrow</th>\n",
       "      <th>crop_x</th>\n",
       "      <th>crop_y</th>\n",
       "      <th>frame_ind</th>\n",
       "      <th>time_arrow_duplicated</th>\n",
       "      <th>event_pred</th>\n",
       "    </tr>\n",
       "  </thead>\n",
       "  <tbody>\n",
       "    <tr>\n",
       "      <th>0</th>\n",
       "      <td>1</td>\n",
       "      <td>1</td>\n",
       "      <td>331</td>\n",
       "      <td>962</td>\n",
       "      <td>22</td>\n",
       "      <td>1</td>\n",
       "      <td>1</td>\n",
       "    </tr>\n",
       "    <tr>\n",
       "      <th>1</th>\n",
       "      <td>1</td>\n",
       "      <td>1</td>\n",
       "      <td>493</td>\n",
       "      <td>16</td>\n",
       "      <td>48</td>\n",
       "      <td>1</td>\n",
       "      <td>1</td>\n",
       "    </tr>\n",
       "    <tr>\n",
       "      <th>2</th>\n",
       "      <td>1</td>\n",
       "      <td>1</td>\n",
       "      <td>763</td>\n",
       "      <td>178</td>\n",
       "      <td>21</td>\n",
       "      <td>1</td>\n",
       "      <td>1</td>\n",
       "    </tr>\n",
       "    <tr>\n",
       "      <th>3</th>\n",
       "      <td>1</td>\n",
       "      <td>1</td>\n",
       "      <td>774</td>\n",
       "      <td>382</td>\n",
       "      <td>93</td>\n",
       "      <td>1</td>\n",
       "      <td>1</td>\n",
       "    </tr>\n",
       "    <tr>\n",
       "      <th>4</th>\n",
       "      <td>1</td>\n",
       "      <td>1</td>\n",
       "      <td>567</td>\n",
       "      <td>777</td>\n",
       "      <td>84</td>\n",
       "      <td>1</td>\n",
       "      <td>1</td>\n",
       "    </tr>\n",
       "    <tr>\n",
       "      <th>...</th>\n",
       "      <td>...</td>\n",
       "      <td>...</td>\n",
       "      <td>...</td>\n",
       "      <td>...</td>\n",
       "      <td>...</td>\n",
       "      <td>...</td>\n",
       "      <td>...</td>\n",
       "    </tr>\n",
       "    <tr>\n",
       "      <th>2465</th>\n",
       "      <td>1</td>\n",
       "      <td>0</td>\n",
       "      <td>154</td>\n",
       "      <td>692</td>\n",
       "      <td>6</td>\n",
       "      <td>0</td>\n",
       "      <td>0</td>\n",
       "    </tr>\n",
       "    <tr>\n",
       "      <th>2466</th>\n",
       "      <td>1</td>\n",
       "      <td>0</td>\n",
       "      <td>855</td>\n",
       "      <td>42</td>\n",
       "      <td>55</td>\n",
       "      <td>0</td>\n",
       "      <td>0</td>\n",
       "    </tr>\n",
       "    <tr>\n",
       "      <th>2467</th>\n",
       "      <td>1</td>\n",
       "      <td>1</td>\n",
       "      <td>872</td>\n",
       "      <td>860</td>\n",
       "      <td>65</td>\n",
       "      <td>1</td>\n",
       "      <td>0</td>\n",
       "    </tr>\n",
       "    <tr>\n",
       "      <th>2468</th>\n",
       "      <td>1</td>\n",
       "      <td>1</td>\n",
       "      <td>507</td>\n",
       "      <td>799</td>\n",
       "      <td>63</td>\n",
       "      <td>1</td>\n",
       "      <td>0</td>\n",
       "    </tr>\n",
       "    <tr>\n",
       "      <th>2469</th>\n",
       "      <td>1</td>\n",
       "      <td>0</td>\n",
       "      <td>778</td>\n",
       "      <td>400</td>\n",
       "      <td>92</td>\n",
       "      <td>0</td>\n",
       "      <td>0</td>\n",
       "    </tr>\n",
       "  </tbody>\n",
       "</table>\n",
       "<p>2470 rows × 7 columns</p>\n",
       "</div>"
      ],
      "text/plain": [
       "      event_label  time_arrow  crop_x  crop_y  frame_ind  \\\n",
       "0               1           1     331     962         22   \n",
       "1               1           1     493      16         48   \n",
       "2               1           1     763     178         21   \n",
       "3               1           1     774     382         93   \n",
       "4               1           1     567     777         84   \n",
       "...           ...         ...     ...     ...        ...   \n",
       "2465            1           0     154     692          6   \n",
       "2466            1           0     855      42         55   \n",
       "2467            1           1     872     860         65   \n",
       "2468            1           1     507     799         63   \n",
       "2469            1           0     778     400         92   \n",
       "\n",
       "      time_arrow_duplicated  event_pred  \n",
       "0                         1           1  \n",
       "1                         1           1  \n",
       "2                         1           1  \n",
       "3                         1           1  \n",
       "4                         1           1  \n",
       "...                     ...         ...  \n",
       "2465                      0           0  \n",
       "2466                      0           0  \n",
       "2467                      1           0  \n",
       "2468                      1           0  \n",
       "2469                      0           0  \n",
       "\n",
       "[2470 rows x 7 columns]"
      ]
     },
     "execution_count": 21,
     "metadata": {},
     "output_type": "execute_result"
    }
   ],
   "source": [
    "df_total_pos"
   ]
  },
  {
   "cell_type": "code",
   "execution_count": 22,
   "id": "295879f4",
   "metadata": {},
   "outputs": [],
   "source": [
    "df_false_neg = pd.DataFrame(false_neg_coordinates, columns=column_headings)"
   ]
  },
  {
   "cell_type": "code",
   "execution_count": 23,
   "id": "38e6070f",
   "metadata": {},
   "outputs": [
    {
     "data": {
      "text/plain": [
       "frame_ind\n",
       "0     13\n",
       "1     13\n",
       "2     13\n",
       "3      6\n",
       "4     12\n",
       "      ..\n",
       "90    31\n",
       "91    36\n",
       "92    34\n",
       "93    36\n",
       "94    50\n",
       "Length: 95, dtype: int64"
      ]
     },
     "execution_count": 23,
     "metadata": {},
     "output_type": "execute_result"
    }
   ],
   "source": [
    "df_total_pos.groupby('frame_ind').size()"
   ]
  },
  {
   "cell_type": "code",
   "execution_count": 24,
   "id": "8963caf0",
   "metadata": {},
   "outputs": [],
   "source": [
    "df_total_neg = pd.DataFrame(total_neg_coordinates, columns=column_headings)"
   ]
  },
  {
   "cell_type": "code",
   "execution_count": 25,
   "id": "331f81c5",
   "metadata": {},
   "outputs": [],
   "source": [
    "df_true_neg = pd.DataFrame(true_neg_coordinates, columns=column_headings)"
   ]
  },
  {
   "cell_type": "code",
   "execution_count": 26,
   "id": "9df7826c",
   "metadata": {},
   "outputs": [],
   "source": [
    "total_pos_groupby_frame_ind = df_total_pos.groupby('frame_ind').size()"
   ]
  },
  {
   "cell_type": "code",
   "execution_count": 27,
   "id": "2c60f28a",
   "metadata": {},
   "outputs": [
    {
     "data": {
      "text/plain": [
       "2470"
      ]
     },
     "execution_count": 27,
     "metadata": {},
     "output_type": "execute_result"
    }
   ],
   "source": [
    "total_pos_groupby_frame_ind.sum()"
   ]
  },
  {
   "cell_type": "code",
   "execution_count": 28,
   "id": "bf25d40d",
   "metadata": {},
   "outputs": [],
   "source": [
    "false_pos_groupby_frame_ind = df_false_pos.groupby('frame_ind').size()"
   ]
  },
  {
   "cell_type": "code",
   "execution_count": 29,
   "id": "1788a9a1",
   "metadata": {},
   "outputs": [],
   "source": [
    "true_pos_groupby_frame_ind = df_true_pos.groupby('frame_ind').size()"
   ]
  },
  {
   "cell_type": "code",
   "execution_count": 30,
   "id": "a9afcc7b",
   "metadata": {},
   "outputs": [],
   "source": [
    "false_neg_groupby_frame_ind = df_false_neg.groupby('frame_ind').size()"
   ]
  },
  {
   "cell_type": "code",
   "execution_count": 31,
   "id": "05ee21ac",
   "metadata": {},
   "outputs": [],
   "source": [
    "true_neg_groupby_frame_ind = df_true_neg.groupby('frame_ind').size()"
   ]
  },
  {
   "cell_type": "code",
   "execution_count": 32,
   "id": "d1a87f30",
   "metadata": {},
   "outputs": [],
   "source": [
    "total_neg_groupby_frame_ind = df_total_neg.groupby('frame_ind').size()"
   ]
  },
  {
   "cell_type": "code",
   "execution_count": 33,
   "id": "c6b77aa9",
   "metadata": {},
   "outputs": [
    {
     "data": {
      "text/plain": [
       "2198"
      ]
     },
     "execution_count": 33,
     "metadata": {},
     "output_type": "execute_result"
    }
   ],
   "source": [
    "true_pos_groupby_frame_ind.sum()"
   ]
  },
  {
   "cell_type": "code",
   "execution_count": 34,
   "id": "fab14c7d",
   "metadata": {},
   "outputs": [
    {
     "data": {
      "text/plain": [
       "1028"
      ]
     },
     "execution_count": 34,
     "metadata": {},
     "output_type": "execute_result"
    }
   ],
   "source": [
    "false_pos_groupby_frame_ind.sum()"
   ]
  },
  {
   "cell_type": "code",
   "execution_count": 35,
   "id": "9c44b7ba",
   "metadata": {},
   "outputs": [
    {
     "data": {
      "text/plain": [
       "272"
      ]
     },
     "execution_count": 35,
     "metadata": {},
     "output_type": "execute_result"
    }
   ],
   "source": [
    "false_neg_groupby_frame_ind.sum()"
   ]
  },
  {
   "cell_type": "code",
   "execution_count": 36,
   "id": "48bb1271",
   "metadata": {},
   "outputs": [
    {
     "data": {
      "text/plain": [
       "15502"
      ]
     },
     "execution_count": 36,
     "metadata": {},
     "output_type": "execute_result"
    }
   ],
   "source": [
    "true_neg_groupby_frame_ind.sum()"
   ]
  },
  {
   "cell_type": "code",
   "execution_count": 37,
   "id": "d437033f",
   "metadata": {},
   "outputs": [
    {
     "data": {
      "text/plain": [
       "16530"
      ]
     },
     "execution_count": 37,
     "metadata": {},
     "output_type": "execute_result"
    }
   ],
   "source": [
    "total_neg_groupby_frame_ind.sum()"
   ]
  },
  {
   "cell_type": "code",
   "execution_count": 38,
   "id": "33b015df",
   "metadata": {},
   "outputs": [],
   "source": [
    "false_pos_percentage = (false_pos_groupby_frame_ind / false_pos_groupby_frame_ind.sum())*100"
   ]
  },
  {
   "cell_type": "code",
   "execution_count": 39,
   "id": "39fd0976",
   "metadata": {},
   "outputs": [],
   "source": [
    "total_pos_percentage = (total_pos_groupby_frame_ind / total_pos_groupby_frame_ind.sum())*100"
   ]
  },
  {
   "cell_type": "code",
   "execution_count": 40,
   "id": "3f052840",
   "metadata": {},
   "outputs": [],
   "source": [
    "true_pos_percentage = (true_pos_groupby_frame_ind / true_pos_groupby_frame_ind.sum())*100"
   ]
  },
  {
   "cell_type": "code",
   "execution_count": 41,
   "id": "db84e36b",
   "metadata": {},
   "outputs": [],
   "source": [
    "false_neg_percentage = (false_neg_groupby_frame_ind / false_neg_groupby_frame_ind.sum())*100"
   ]
  },
  {
   "cell_type": "code",
   "execution_count": 42,
   "id": "953db765",
   "metadata": {},
   "outputs": [],
   "source": [
    "true_neg_percentage = (true_neg_groupby_frame_ind / true_neg_groupby_frame_ind.sum())*100"
   ]
  },
  {
   "cell_type": "code",
   "execution_count": 43,
   "id": "f5fe59e5",
   "metadata": {},
   "outputs": [],
   "source": [
    "total_neg_percentage = (total_neg_groupby_frame_ind / total_neg_groupby_frame_ind.sum())*100"
   ]
  },
  {
   "cell_type": "code",
   "execution_count": 44,
   "id": "9f6c9003",
   "metadata": {},
   "outputs": [],
   "source": [
    "import matplotlib.pyplot as plt"
   ]
  },
  {
   "cell_type": "code",
   "execution_count": 45,
   "id": "35fd7e23",
   "metadata": {},
   "outputs": [],
   "source": [
    "# Plotting the data\n",
    "plt.figure(figsize=(10, 6))\n",
    "\n",
    "# Plot each percentage lines\n",
    "plt.plot(true_pos_percentage.index, true_pos_percentage, marker='o', label='true positives', color='blue')\n",
    "plt.plot(false_pos_percentage.index, false_pos_percentage, marker='s', label='false positives', color='green')\n",
    "plt.plot(total_pos_percentage.index, total_pos_percentage, marker='^', label='ground truth positives', color='red')\n",
    "\n",
    "# Set labels and title\n",
    "plt.xlabel('time index of frame', fontsize=12)\n",
    "plt.ylabel('Percentage (%)', fontsize=12)\n",
    "plt.title('Distribution of false positives by time', fontsize=14)\n",
    "\n",
    "# Add a legend to differentiate between datasets\n",
    "plt.legend()\n",
    "\n",
    "# Show the plot\n",
    "plt.grid(True)\n",
    "# plt.show()\n",
    "plt.savefig('/Users/cangxiong/Downloads/false_positives_by_time.pdf', format='pdf')\n",
    "plt.close()"
   ]
  },
  {
   "cell_type": "code",
   "execution_count": 46,
   "id": "f9d09176",
   "metadata": {},
   "outputs": [],
   "source": [
    "# Plotting the data\n",
    "plt.figure(figsize=(10, 6))\n",
    "\n",
    "# Plot each percentage lines  \n",
    "plt.plot(true_neg_percentage.index, true_neg_percentage, marker='o', label='true negatives', color='blue')\n",
    "plt.plot(false_neg_percentage.index, false_neg_percentage, marker='s', label='false negatives', color='green')\n",
    "plt.plot(total_neg_percentage.index, total_neg_percentage, marker='^', label='ground truth negatives', color='red')\n",
    "\n",
    "# Set labels and title\n",
    "plt.xlabel('time index of frame', fontsize=12)\n",
    "plt.ylabel('Percentage (%)', fontsize=12)\n",
    "plt.title('Distribution of false negatives by time', fontsize=14)\n",
    "\n",
    "# Add a legend to differentiate between datasets\n",
    "plt.legend()\n",
    "\n",
    "# Show the plot\n",
    "plt.grid(True)\n",
    "# plt.show()\n",
    "plt.savefig('/Users/cangxiong/Downloads/false_negatives_by_time.pdf', format='pdf')\n",
    "plt.close()"
   ]
  },
  {
   "cell_type": "code",
   "execution_count": null,
   "id": "94e1a7e7",
   "metadata": {},
   "outputs": [],
   "source": []
  }
 ],
 "metadata": {
  "kernelspec": {
   "display_name": "Python [conda env:tarrow]",
   "language": "python",
   "name": "conda-env-tarrow-py"
  },
  "language_info": {
   "codemirror_mode": {
    "name": "ipython",
    "version": 3
   },
   "file_extension": ".py",
   "mimetype": "text/x-python",
   "name": "python",
   "nbconvert_exporter": "python",
   "pygments_lexer": "ipython3",
   "version": "3.9.19"
  }
 },
 "nbformat": 4,
 "nbformat_minor": 5
}
